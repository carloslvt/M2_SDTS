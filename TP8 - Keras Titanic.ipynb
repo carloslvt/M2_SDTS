{
 "cells": [
  {
   "cell_type": "code",
   "execution_count": 1,
   "id": "e453cfc3",
   "metadata": {
    "scrolled": true
   },
   "outputs": [
    {
     "data": {
      "text/html": [
       "<div>\n",
       "<style scoped>\n",
       "    .dataframe tbody tr th:only-of-type {\n",
       "        vertical-align: middle;\n",
       "    }\n",
       "\n",
       "    .dataframe tbody tr th {\n",
       "        vertical-align: top;\n",
       "    }\n",
       "\n",
       "    .dataframe thead th {\n",
       "        text-align: right;\n",
       "    }\n",
       "</style>\n",
       "<table border=\"1\" class=\"dataframe\">\n",
       "  <thead>\n",
       "    <tr style=\"text-align: right;\">\n",
       "      <th></th>\n",
       "      <th>PassengerId</th>\n",
       "      <th>Survived</th>\n",
       "      <th>Pclass</th>\n",
       "      <th>Name</th>\n",
       "      <th>Sex</th>\n",
       "      <th>Age</th>\n",
       "      <th>SibSp</th>\n",
       "      <th>Parch</th>\n",
       "      <th>Ticket</th>\n",
       "      <th>Fare</th>\n",
       "      <th>Cabin</th>\n",
       "      <th>Embarked</th>\n",
       "    </tr>\n",
       "  </thead>\n",
       "  <tbody>\n",
       "    <tr>\n",
       "      <th>0</th>\n",
       "      <td>1</td>\n",
       "      <td>0</td>\n",
       "      <td>3</td>\n",
       "      <td>Braund, Mr. Owen Harris</td>\n",
       "      <td>male</td>\n",
       "      <td>22.0</td>\n",
       "      <td>1</td>\n",
       "      <td>0</td>\n",
       "      <td>A/5 21171</td>\n",
       "      <td>7.2500</td>\n",
       "      <td>NaN</td>\n",
       "      <td>S</td>\n",
       "    </tr>\n",
       "    <tr>\n",
       "      <th>1</th>\n",
       "      <td>2</td>\n",
       "      <td>1</td>\n",
       "      <td>1</td>\n",
       "      <td>Cumings, Mrs. John Bradley (Florence Briggs Th...</td>\n",
       "      <td>female</td>\n",
       "      <td>38.0</td>\n",
       "      <td>1</td>\n",
       "      <td>0</td>\n",
       "      <td>PC 17599</td>\n",
       "      <td>71.2833</td>\n",
       "      <td>C85</td>\n",
       "      <td>C</td>\n",
       "    </tr>\n",
       "    <tr>\n",
       "      <th>2</th>\n",
       "      <td>3</td>\n",
       "      <td>1</td>\n",
       "      <td>3</td>\n",
       "      <td>Heikkinen, Miss. Laina</td>\n",
       "      <td>female</td>\n",
       "      <td>26.0</td>\n",
       "      <td>0</td>\n",
       "      <td>0</td>\n",
       "      <td>STON/O2. 3101282</td>\n",
       "      <td>7.9250</td>\n",
       "      <td>NaN</td>\n",
       "      <td>S</td>\n",
       "    </tr>\n",
       "    <tr>\n",
       "      <th>3</th>\n",
       "      <td>4</td>\n",
       "      <td>1</td>\n",
       "      <td>1</td>\n",
       "      <td>Futrelle, Mrs. Jacques Heath (Lily May Peel)</td>\n",
       "      <td>female</td>\n",
       "      <td>35.0</td>\n",
       "      <td>1</td>\n",
       "      <td>0</td>\n",
       "      <td>113803</td>\n",
       "      <td>53.1000</td>\n",
       "      <td>C123</td>\n",
       "      <td>S</td>\n",
       "    </tr>\n",
       "    <tr>\n",
       "      <th>4</th>\n",
       "      <td>5</td>\n",
       "      <td>0</td>\n",
       "      <td>3</td>\n",
       "      <td>Allen, Mr. William Henry</td>\n",
       "      <td>male</td>\n",
       "      <td>35.0</td>\n",
       "      <td>0</td>\n",
       "      <td>0</td>\n",
       "      <td>373450</td>\n",
       "      <td>8.0500</td>\n",
       "      <td>NaN</td>\n",
       "      <td>S</td>\n",
       "    </tr>\n",
       "  </tbody>\n",
       "</table>\n",
       "</div>"
      ],
      "text/plain": [
       "   PassengerId  Survived  Pclass  \\\n",
       "0            1         0       3   \n",
       "1            2         1       1   \n",
       "2            3         1       3   \n",
       "3            4         1       1   \n",
       "4            5         0       3   \n",
       "\n",
       "                                                Name     Sex   Age  SibSp  \\\n",
       "0                            Braund, Mr. Owen Harris    male  22.0      1   \n",
       "1  Cumings, Mrs. John Bradley (Florence Briggs Th...  female  38.0      1   \n",
       "2                             Heikkinen, Miss. Laina  female  26.0      0   \n",
       "3       Futrelle, Mrs. Jacques Heath (Lily May Peel)  female  35.0      1   \n",
       "4                           Allen, Mr. William Henry    male  35.0      0   \n",
       "\n",
       "   Parch            Ticket     Fare Cabin Embarked  \n",
       "0      0         A/5 21171   7.2500   NaN        S  \n",
       "1      0          PC 17599  71.2833   C85        C  \n",
       "2      0  STON/O2. 3101282   7.9250   NaN        S  \n",
       "3      0            113803  53.1000  C123        S  \n",
       "4      0            373450   8.0500   NaN        S  "
      ]
     },
     "execution_count": 1,
     "metadata": {},
     "output_type": "execute_result"
    }
   ],
   "source": [
    "import pandas as pd\n",
    "\n",
    "data = pd.read_csv('train.csv')\n",
    "data.head()"
   ]
  },
  {
   "cell_type": "markdown",
   "id": "d5142397",
   "metadata": {},
   "source": [
    "# Pre-processing\n",
    "## Nettoyage"
   ]
  },
  {
   "cell_type": "markdown",
   "id": "4d062771",
   "metadata": {},
   "source": [
    "Pour rappel :\n",
    "\n",
    "Notre DataSet est constitué de 12 caractéristiques, mais nous allons nous séparer de 3 caractéristiques car elles sont inutiles et ne nous donnent pas beaucoup d'informations. Par exemple, la caractéristique PassengerId et Ticket ne sont pas utiles pour la prédiction, il est donc préférable de les laisser tomber de l'ensemble de données. Et dans l'ensemble de données de la Cabin, nous avons 77% de valeurs manquantes, il n'est donc pas trivial de traiter cette caractéristique.\n",
    "\n",
    "Dans un premier temps, nous devons récuperer les titres présent dans la variable Name grâce à une regex et les simplifier."
   ]
  },
  {
   "cell_type": "code",
   "execution_count": 2,
   "id": "1edf57f1",
   "metadata": {
    "scrolled": true
   },
   "outputs": [],
   "source": [
    "from sklearn.preprocessing import StandardScaler, OneHotEncoder, LabelEncoder\n",
    "from sklearn.model_selection import train_test_split\n",
    "\n",
    "df = data.copy()\n",
    "\n",
    "title = df.Name.str.extract('([A-Za-z]+)\\.', expand=False)\n",
    "df['Title'] = title\n",
    "\n",
    "new_title = {\"Mlle\":\"Miss\", \"Ms\":\"Miss\", \"Mme\":\"Mrs\"}\n",
    "\n",
    "rare_title = {}\n",
    "for title in ['Lady', 'Countess','Capt', 'Col','Don', 'Major', 'Rev', 'Sir', 'Jonkheer', 'Dona']:\n",
    "    rare_title[title] = \"Rare\"\n",
    "    \n",
    "new_title.update(rare_title)\n",
    "\n",
    "df[\"Title\"] = df[\"Title\"].replace(new_title)"
   ]
  },
  {
   "cell_type": "markdown",
   "id": "40480b82",
   "metadata": {},
   "source": [
    "Ensuite nous pouvons supprimer les variables indésirables"
   ]
  },
  {
   "cell_type": "code",
   "execution_count": 3,
   "id": "df4c03c9",
   "metadata": {},
   "outputs": [
    {
     "data": {
      "text/html": [
       "<div>\n",
       "<style scoped>\n",
       "    .dataframe tbody tr th:only-of-type {\n",
       "        vertical-align: middle;\n",
       "    }\n",
       "\n",
       "    .dataframe tbody tr th {\n",
       "        vertical-align: top;\n",
       "    }\n",
       "\n",
       "    .dataframe thead th {\n",
       "        text-align: right;\n",
       "    }\n",
       "</style>\n",
       "<table border=\"1\" class=\"dataframe\">\n",
       "  <thead>\n",
       "    <tr style=\"text-align: right;\">\n",
       "      <th></th>\n",
       "      <th>Survived</th>\n",
       "      <th>Pclass</th>\n",
       "      <th>Sex</th>\n",
       "      <th>Age</th>\n",
       "      <th>SibSp</th>\n",
       "      <th>Parch</th>\n",
       "      <th>Fare</th>\n",
       "      <th>Embarked</th>\n",
       "      <th>Title</th>\n",
       "    </tr>\n",
       "  </thead>\n",
       "  <tbody>\n",
       "    <tr>\n",
       "      <th>0</th>\n",
       "      <td>0</td>\n",
       "      <td>3</td>\n",
       "      <td>male</td>\n",
       "      <td>22.0</td>\n",
       "      <td>1</td>\n",
       "      <td>0</td>\n",
       "      <td>7.2500</td>\n",
       "      <td>S</td>\n",
       "      <td>Mr</td>\n",
       "    </tr>\n",
       "    <tr>\n",
       "      <th>1</th>\n",
       "      <td>1</td>\n",
       "      <td>1</td>\n",
       "      <td>female</td>\n",
       "      <td>38.0</td>\n",
       "      <td>1</td>\n",
       "      <td>0</td>\n",
       "      <td>71.2833</td>\n",
       "      <td>C</td>\n",
       "      <td>Mrs</td>\n",
       "    </tr>\n",
       "    <tr>\n",
       "      <th>2</th>\n",
       "      <td>1</td>\n",
       "      <td>3</td>\n",
       "      <td>female</td>\n",
       "      <td>26.0</td>\n",
       "      <td>0</td>\n",
       "      <td>0</td>\n",
       "      <td>7.9250</td>\n",
       "      <td>S</td>\n",
       "      <td>Miss</td>\n",
       "    </tr>\n",
       "    <tr>\n",
       "      <th>3</th>\n",
       "      <td>1</td>\n",
       "      <td>1</td>\n",
       "      <td>female</td>\n",
       "      <td>35.0</td>\n",
       "      <td>1</td>\n",
       "      <td>0</td>\n",
       "      <td>53.1000</td>\n",
       "      <td>S</td>\n",
       "      <td>Mrs</td>\n",
       "    </tr>\n",
       "    <tr>\n",
       "      <th>4</th>\n",
       "      <td>0</td>\n",
       "      <td>3</td>\n",
       "      <td>male</td>\n",
       "      <td>35.0</td>\n",
       "      <td>0</td>\n",
       "      <td>0</td>\n",
       "      <td>8.0500</td>\n",
       "      <td>S</td>\n",
       "      <td>Mr</td>\n",
       "    </tr>\n",
       "  </tbody>\n",
       "</table>\n",
       "</div>"
      ],
      "text/plain": [
       "   Survived  Pclass     Sex   Age  SibSp  Parch     Fare Embarked Title\n",
       "0         0       3    male  22.0      1      0   7.2500        S    Mr\n",
       "1         1       1  female  38.0      1      0  71.2833        C   Mrs\n",
       "2         1       3  female  26.0      0      0   7.9250        S  Miss\n",
       "3         1       1  female  35.0      1      0  53.1000        S   Mrs\n",
       "4         0       3    male  35.0      0      0   8.0500        S    Mr"
      ]
     },
     "execution_count": 3,
     "metadata": {},
     "output_type": "execute_result"
    }
   ],
   "source": [
    "df = df.drop([\"PassengerId\", \"Ticket\" , \"Name\", \"Cabin\"], axis = 1)\n",
    "df = df.dropna()\n",
    "df.head()"
   ]
  },
  {
   "cell_type": "markdown",
   "id": "9dc89398",
   "metadata": {},
   "source": [
    "## Encodage\n",
    "\n",
    "Maintenant nous devons encoder les variables qualitatives pour pouvoir les utiliser dans notre modèle. Pour ce faire, nous utilisons le One-Hot encoding afin de transformer les caractéristiques catégoriques en plusieurs caractéristiques binaires\n"
   ]
  },
  {
   "cell_type": "code",
   "execution_count": 4,
   "id": "81a16f1e",
   "metadata": {},
   "outputs": [],
   "source": [
    "def _encodage(df):\n",
    "    \"\"\"\n",
    "    Permet de encoder les variables de type \"object\" en \"int\"\n",
    "    \n",
    "    :param: df: dataframe en entrée\n",
    "    return: dataframe encoder\n",
    "    \"\"\"\n",
    "    le = LabelEncoder()\n",
    "    df['Sex'] = le.fit_transform(df['Sex'])\n",
    "    \n",
    "    columns = ['Embarked', 'Pclass', 'Title']\n",
    "    df = pd.get_dummies(df, columns=columns)\n",
    "    \n",
    "    return df"
   ]
  },
  {
   "cell_type": "markdown",
   "id": "500b7b35",
   "metadata": {},
   "source": [
    "## TrainTest\n",
    "\n",
    "Nous splittons notre dataset en 2 afin d'avoir une dataset d'entrainement et un dataset de test. Nous décidons d'utiliser 80% du dataset pour l'entrainement et 20% pour le test. Nous choisissons ces paramètres car si nous utilisons trop de données pour l'entrainement nous allons avoir du sur-apprentissage, et inversement si nous n'avons pas assez de données pour l'entrainement nous allons avec du sous-apprentissage.\n"
   ]
  },
  {
   "cell_type": "code",
   "execution_count": 6,
   "id": "db87d8ab",
   "metadata": {
    "scrolled": false
   },
   "outputs": [
    {
     "data": {
      "text/plain": [
       "0    342\n",
       "1    227\n",
       "Name: Survived, dtype: int64"
      ]
     },
     "execution_count": 6,
     "metadata": {},
     "output_type": "execute_result"
    }
   ],
   "source": [
    "df_prep = _encodage(df)\n",
    "\n",
    "trainset, testset = train_test_split(df_prep, test_size=0.2, random_state=19)\n",
    "trainset['Survived'].value_counts()"
   ]
  },
  {
   "cell_type": "code",
   "execution_count": 7,
   "id": "13c0d860",
   "metadata": {
    "scrolled": true
   },
   "outputs": [
    {
     "data": {
      "text/html": [
       "<div>\n",
       "<style scoped>\n",
       "    .dataframe tbody tr th:only-of-type {\n",
       "        vertical-align: middle;\n",
       "    }\n",
       "\n",
       "    .dataframe tbody tr th {\n",
       "        vertical-align: top;\n",
       "    }\n",
       "\n",
       "    .dataframe thead th {\n",
       "        text-align: right;\n",
       "    }\n",
       "</style>\n",
       "<table border=\"1\" class=\"dataframe\">\n",
       "  <thead>\n",
       "    <tr style=\"text-align: right;\">\n",
       "      <th></th>\n",
       "      <th>Survived</th>\n",
       "      <th>Sex</th>\n",
       "      <th>Age</th>\n",
       "      <th>SibSp</th>\n",
       "      <th>Parch</th>\n",
       "      <th>Fare</th>\n",
       "      <th>Embarked_C</th>\n",
       "      <th>Embarked_Q</th>\n",
       "      <th>Embarked_S</th>\n",
       "      <th>Pclass_1</th>\n",
       "      <th>Pclass_2</th>\n",
       "      <th>Pclass_3</th>\n",
       "      <th>Title_Dr</th>\n",
       "      <th>Title_Master</th>\n",
       "      <th>Title_Miss</th>\n",
       "      <th>Title_Mr</th>\n",
       "      <th>Title_Mrs</th>\n",
       "      <th>Title_Rare</th>\n",
       "    </tr>\n",
       "  </thead>\n",
       "  <tbody>\n",
       "    <tr>\n",
       "      <th>0</th>\n",
       "      <td>0</td>\n",
       "      <td>1</td>\n",
       "      <td>22.0</td>\n",
       "      <td>1</td>\n",
       "      <td>0</td>\n",
       "      <td>7.2500</td>\n",
       "      <td>0</td>\n",
       "      <td>0</td>\n",
       "      <td>1</td>\n",
       "      <td>0</td>\n",
       "      <td>0</td>\n",
       "      <td>1</td>\n",
       "      <td>0</td>\n",
       "      <td>0</td>\n",
       "      <td>0</td>\n",
       "      <td>1</td>\n",
       "      <td>0</td>\n",
       "      <td>0</td>\n",
       "    </tr>\n",
       "    <tr>\n",
       "      <th>1</th>\n",
       "      <td>1</td>\n",
       "      <td>0</td>\n",
       "      <td>38.0</td>\n",
       "      <td>1</td>\n",
       "      <td>0</td>\n",
       "      <td>71.2833</td>\n",
       "      <td>1</td>\n",
       "      <td>0</td>\n",
       "      <td>0</td>\n",
       "      <td>1</td>\n",
       "      <td>0</td>\n",
       "      <td>0</td>\n",
       "      <td>0</td>\n",
       "      <td>0</td>\n",
       "      <td>0</td>\n",
       "      <td>0</td>\n",
       "      <td>1</td>\n",
       "      <td>0</td>\n",
       "    </tr>\n",
       "    <tr>\n",
       "      <th>2</th>\n",
       "      <td>1</td>\n",
       "      <td>0</td>\n",
       "      <td>26.0</td>\n",
       "      <td>0</td>\n",
       "      <td>0</td>\n",
       "      <td>7.9250</td>\n",
       "      <td>0</td>\n",
       "      <td>0</td>\n",
       "      <td>1</td>\n",
       "      <td>0</td>\n",
       "      <td>0</td>\n",
       "      <td>1</td>\n",
       "      <td>0</td>\n",
       "      <td>0</td>\n",
       "      <td>1</td>\n",
       "      <td>0</td>\n",
       "      <td>0</td>\n",
       "      <td>0</td>\n",
       "    </tr>\n",
       "    <tr>\n",
       "      <th>3</th>\n",
       "      <td>1</td>\n",
       "      <td>0</td>\n",
       "      <td>35.0</td>\n",
       "      <td>1</td>\n",
       "      <td>0</td>\n",
       "      <td>53.1000</td>\n",
       "      <td>0</td>\n",
       "      <td>0</td>\n",
       "      <td>1</td>\n",
       "      <td>1</td>\n",
       "      <td>0</td>\n",
       "      <td>0</td>\n",
       "      <td>0</td>\n",
       "      <td>0</td>\n",
       "      <td>0</td>\n",
       "      <td>0</td>\n",
       "      <td>1</td>\n",
       "      <td>0</td>\n",
       "    </tr>\n",
       "    <tr>\n",
       "      <th>4</th>\n",
       "      <td>0</td>\n",
       "      <td>1</td>\n",
       "      <td>35.0</td>\n",
       "      <td>0</td>\n",
       "      <td>0</td>\n",
       "      <td>8.0500</td>\n",
       "      <td>0</td>\n",
       "      <td>0</td>\n",
       "      <td>1</td>\n",
       "      <td>0</td>\n",
       "      <td>0</td>\n",
       "      <td>1</td>\n",
       "      <td>0</td>\n",
       "      <td>0</td>\n",
       "      <td>0</td>\n",
       "      <td>1</td>\n",
       "      <td>0</td>\n",
       "      <td>0</td>\n",
       "    </tr>\n",
       "  </tbody>\n",
       "</table>\n",
       "</div>"
      ],
      "text/plain": [
       "   Survived  Sex   Age  SibSp  Parch     Fare  Embarked_C  Embarked_Q  \\\n",
       "0         0    1  22.0      1      0   7.2500           0           0   \n",
       "1         1    0  38.0      1      0  71.2833           1           0   \n",
       "2         1    0  26.0      0      0   7.9250           0           0   \n",
       "3         1    0  35.0      1      0  53.1000           0           0   \n",
       "4         0    1  35.0      0      0   8.0500           0           0   \n",
       "\n",
       "   Embarked_S  Pclass_1  Pclass_2  Pclass_3  Title_Dr  Title_Master  \\\n",
       "0           1         0         0         1         0             0   \n",
       "1           0         1         0         0         0             0   \n",
       "2           1         0         0         1         0             0   \n",
       "3           1         1         0         0         0             0   \n",
       "4           1         0         0         1         0             0   \n",
       "\n",
       "   Title_Miss  Title_Mr  Title_Mrs  Title_Rare  \n",
       "0           0         1          0           0  \n",
       "1           0         0          1           0  \n",
       "2           1         0          0           0  \n",
       "3           0         0          1           0  \n",
       "4           0         1          0           0  "
      ]
     },
     "execution_count": 7,
     "metadata": {},
     "output_type": "execute_result"
    }
   ],
   "source": [
    "df_prep.head()"
   ]
  },
  {
   "cell_type": "code",
   "execution_count": 8,
   "id": "0ce67c42",
   "metadata": {},
   "outputs": [],
   "source": [
    "def _preprocessing(df):\n",
    "    \"\"\"\n",
    "    split le dataframe en données d'apprentissage (X) et target 'y'\n",
    "    \n",
    "    :param: df: dataframe en entrée\n",
    "    return: X et y\n",
    "    \"\"\"   \n",
    "    X = df.drop('Survived', axis=1)\n",
    "    y = df['Survived']\n",
    "    \n",
    "    scaler = StandardScaler().fit(X)\n",
    "    X = scaler.transform(X)\n",
    "    \n",
    "    print(y.value_counts())\n",
    "    return X, y"
   ]
  },
  {
   "cell_type": "code",
   "execution_count": 9,
   "id": "98403127",
   "metadata": {},
   "outputs": [
    {
     "name": "stdout",
     "output_type": "stream",
     "text": [
      "0    342\n",
      "1    227\n",
      "Name: Survived, dtype: int64\n"
     ]
    }
   ],
   "source": [
    "X_train, y_train = _preprocessing(trainset)"
   ]
  },
  {
   "cell_type": "code",
   "execution_count": 10,
   "id": "abc83175",
   "metadata": {
    "scrolled": true
   },
   "outputs": [
    {
     "name": "stdout",
     "output_type": "stream",
     "text": [
      "0    82\n",
      "1    61\n",
      "Name: Survived, dtype: int64\n"
     ]
    }
   ],
   "source": [
    "X_test, y_test = _preprocessing(testset)"
   ]
  },
  {
   "cell_type": "markdown",
   "id": "4b7bf306",
   "metadata": {},
   "source": [
    "# Modélisation"
   ]
  },
  {
   "cell_type": "markdown",
   "id": "342936c4",
   "metadata": {},
   "source": [
    "La structure de données de base avec Keras est le modèle. Un modèle est en fait une façon d’organiser les couches de votre réseau de neurones. Keras va en fait et tout simplement nous faciliter la vie dans la gestion de ces couches de neurones. Le type de modèle le plus simple que nous allons rencontrer est le modèle séquentiel. C’est bien sur celui que nous utiliserons ici et il est constitué d’un empilement linéaire de couches.\n",
    "\n",
    "Tout d’abord déclarons les modules Python dont nous aurons besoin (notre fameux modèle et les couches) :"
   ]
  },
  {
   "cell_type": "code",
   "execution_count": 885,
   "id": "36b6cb7c",
   "metadata": {
    "scrolled": true
   },
   "outputs": [],
   "source": [
    "import tensorflow as tf\n",
    "from tensorflow.keras.models import Sequential\n",
    "from tensorflow.keras.layers import Dense\n",
    "from tensorflow.keras.utils import to_categorical"
   ]
  },
  {
   "cell_type": "markdown",
   "id": "e187a40a",
   "metadata": {},
   "source": [
    "Nous créons ensuite notre réseau de neurones (modèle séquentiel) composé de 3 couches cachées :"
   ]
  },
  {
   "cell_type": "code",
   "execution_count": 886,
   "id": "c7e35511",
   "metadata": {
    "scrolled": false
   },
   "outputs": [],
   "source": [
    "model = tf.keras.models.Sequential()\n",
    "\n",
    "model.add(tf.keras.layers.Input(shape=(X_train.shape[0], X_train.shape[1])))\n",
    "model.add(tf.keras.layers.Dense(256, activation='relu'))\n",
    "model.add(tf.keras.layers.Dense(128, activation='relu'))\n",
    "model.add(tf.keras.layers.Dense(64, activation='relu'))\n",
    "model.add(tf.keras.layers.Dense(1, activation='sigmoid'))"
   ]
  },
  {
   "cell_type": "markdown",
   "id": "741df7d4",
   "metadata": {},
   "source": [
    "On empile tout simplement les couches avec la méthode add(). Le nombre de neurones est déterminé par le parametre units.\n",
    "\n",
    "La première couche est la couche d’entrée elle permet le mappage avec les variables d’entrées. La seconde couche est une couche de 256 neurones. La troisième couche est une couche de 128 neurones et la quatrième, de 64 neurones. Quant à la dernière, c'est la couche de sortie qui permet de rendre la « décision », nous utiliserons la fonction «relu» dans ce cas de figure mais on peut selon le besoin en changer."
   ]
  },
  {
   "cell_type": "markdown",
   "id": "a8ea3240",
   "metadata": {},
   "source": [
    "keras nous fournit une fonction qui permet de vérifier le modèle établit :"
   ]
  },
  {
   "cell_type": "code",
   "execution_count": 887,
   "id": "7264c31c",
   "metadata": {
    "scrolled": false
   },
   "outputs": [
    {
     "name": "stdout",
     "output_type": "stream",
     "text": [
      "Model: \"sequential_49\"\n",
      "_________________________________________________________________\n",
      "Layer (type)                 Output Shape              Param #   \n",
      "=================================================================\n",
      "dense_175 (Dense)            (None, 569, 256)          7424      \n",
      "_________________________________________________________________\n",
      "dense_176 (Dense)            (None, 569, 128)          32896     \n",
      "_________________________________________________________________\n",
      "dense_177 (Dense)            (None, 569, 64)           8256      \n",
      "_________________________________________________________________\n",
      "dense_178 (Dense)            (None, 569, 1)            65        \n",
      "=================================================================\n",
      "Total params: 48,641\n",
      "Trainable params: 48,641\n",
      "Non-trainable params: 0\n",
      "_________________________________________________________________\n"
     ]
    }
   ],
   "source": [
    "model.summary()"
   ]
  },
  {
   "cell_type": "markdown",
   "id": "9bc9c2ac",
   "metadata": {},
   "source": [
    "Avant d’entraîner notre modèle, nous devons configurer le processus d’apprentissage en appelant la méthode compile qui accepte trois arguments :\n",
    "\n",
    "- optimizer : Il peut s’agir d’un optimiseur défini par son appellation, par exemple rmsprop ou adagrad , ou d’une instance de la classe Optimizer.\n",
    "- loss : Il s’agit de la fonction de coût que le modèle va utiliser pour minimiser les erreurs. Elle peut être définie par son appellation (exemple : categorical_crossentropy ou mse) ou bien cela peut être une fonction.\n",
    "- metrics : une liste de métriques. Dans le cas d’un problème de classification, vous utiliserez  metrics=[‘accuracy’] mais cet argument peut spécifier une autre métrique en utilisant l’appellation de la métrique à utiliser ou une fonction de métrique sur mesure.\n",
    "\n",
    "Ici, nous choissons comme optimizer \"Nadam\", comme loss \"binary_crossentropy\" et comme métric \"accuracy\""
   ]
  },
  {
   "cell_type": "code",
   "execution_count": 888,
   "id": "b36c3230",
   "metadata": {},
   "outputs": [],
   "source": [
    "opt = tf.keras.optimizers.Nadam(learning_rate=0.0001,epsilon=1e-5)\n",
    "model.compile(optimizer=opt, loss='binary_crossentropy', metrics=['accuracy'])"
   ]
  },
  {
   "cell_type": "markdown",
   "id": "dd180b5b",
   "metadata": {},
   "source": [
    "Entraînons maintenant notre modèle via la fonction fit()"
   ]
  },
  {
   "cell_type": "code",
   "execution_count": 889,
   "id": "4e7d793a",
   "metadata": {
    "scrolled": true
   },
   "outputs": [
    {
     "name": "stdout",
     "output_type": "stream",
     "text": [
      "Epoch 1/10\n",
      "WARNING:tensorflow:Model was constructed with shape (None, 569, 28) for input Tensor(\"input_46:0\", shape=(None, 569, 28), dtype=float32), but it was called on an input with incompatible shape (64, 28).\n",
      "WARNING:tensorflow:Model was constructed with shape (None, 569, 28) for input Tensor(\"input_46:0\", shape=(None, 569, 28), dtype=float32), but it was called on an input with incompatible shape (64, 28).\n",
      "5/8 [=================>............] - ETA: 0s - loss: 0.7059 - accuracy: 0.3969WARNING:tensorflow:Model was constructed with shape (None, 569, 28) for input Tensor(\"input_46:0\", shape=(None, 569, 28), dtype=float32), but it was called on an input with incompatible shape (None, 28).\n",
      "8/8 [==============================] - 0s 34ms/step - loss: 0.7082 - accuracy: 0.4023 - val_loss: 0.6958 - val_accuracy: 0.4912\n",
      "Epoch 2/10\n",
      "8/8 [==============================] - 0s 4ms/step - loss: 0.6851 - accuracy: 0.5566 - val_loss: 0.6736 - val_accuracy: 0.7018\n",
      "Epoch 3/10\n",
      "8/8 [==============================] - 0s 4ms/step - loss: 0.6615 - accuracy: 0.6816 - val_loss: 0.6528 - val_accuracy: 0.7368\n",
      "Epoch 4/10\n",
      "8/8 [==============================] - 0s 4ms/step - loss: 0.6391 - accuracy: 0.7598 - val_loss: 0.6331 - val_accuracy: 0.7544\n",
      "Epoch 5/10\n",
      "8/8 [==============================] - 0s 4ms/step - loss: 0.6172 - accuracy: 0.7832 - val_loss: 0.6143 - val_accuracy: 0.7544\n",
      "Epoch 6/10\n",
      "8/8 [==============================] - 0s 9ms/step - loss: 0.5960 - accuracy: 0.7969 - val_loss: 0.5963 - val_accuracy: 0.7544\n",
      "Epoch 7/10\n",
      "8/8 [==============================] - 0s 5ms/step - loss: 0.5758 - accuracy: 0.7969 - val_loss: 0.5785 - val_accuracy: 0.7368\n",
      "Epoch 8/10\n",
      "8/8 [==============================] - 0s 5ms/step - loss: 0.5563 - accuracy: 0.8066 - val_loss: 0.5615 - val_accuracy: 0.7368\n",
      "Epoch 9/10\n",
      "8/8 [==============================] - 0s 5ms/step - loss: 0.5377 - accuracy: 0.8047 - val_loss: 0.5447 - val_accuracy: 0.7368\n",
      "Epoch 10/10\n",
      "8/8 [==============================] - 0s 5ms/step - loss: 0.5194 - accuracy: 0.8164 - val_loss: 0.5291 - val_accuracy: 0.7368\n"
     ]
    }
   ],
   "source": [
    "history=model.fit(X_train, y_train, epochs=10, batch_size=64, validation_split=0.1)"
   ]
  },
  {
   "cell_type": "markdown",
   "id": "6af27bf9",
   "metadata": {},
   "source": [
    "Il nous expose en fait le détail ce qui se produit quand il va au travers de Tensorflow calculer tous les poids de tous les neurones (cf. technique de Backpropagation). "
   ]
  },
  {
   "cell_type": "markdown",
   "id": "84cae4d7",
   "metadata": {},
   "source": [
    "Regardons maintenant notre scoring :"
   ]
  },
  {
   "cell_type": "code",
   "execution_count": 890,
   "id": "16f4d059",
   "metadata": {
    "scrolled": true
   },
   "outputs": [
    {
     "name": "stdout",
     "output_type": "stream",
     "text": [
      "5/5 [==============================] - 0s 1ms/step - loss: 0.4919 - accuracy: 0.8671\n"
     ]
    }
   ],
   "source": [
    "results = model.evaluate(X_test, y_test)"
   ]
  },
  {
   "cell_type": "markdown",
   "id": "421ffc71",
   "metadata": {},
   "source": [
    "Nous pouvons voir que nous arrivons à un résultat légèrement supérieur que le MLPclassifier, avec le même nombre de couche cachée. Cependant, de nombreux autres paramètres peuvent être modifiés pour améliorer ce score."
   ]
  },
  {
   "cell_type": "code",
   "execution_count": 892,
   "id": "0eeca511",
   "metadata": {},
   "outputs": [
    {
     "data": {
      "image/png": "[encoded data removed]",
      "text/plain": [
       "<Figure size 432x288 with 1 Axes>"
      ]
     },
     "metadata": {
      "needs_background": "light"
     },
     "output_type": "display_data"
    },
    {
     "data": {
      "image/png": "[encoded data removed]",
      "text/plain": [
       "<Figure size 432x288 with 1 Axes>"
      ]
     },
     "metadata": {
      "needs_background": "light"
     },
     "output_type": "display_data"
    }
   ],
   "source": [
    "import matplotlib.pyplot as plt\n",
    "loss_curve = history.history[\"loss\"]\n",
    "acc_curve = history.history[\"accuracy\"]\n",
    "\n",
    "loss_val_curve = history.history[\"val_loss\"]\n",
    "acc_val_curve = history.history[\"val_accuracy\"]\n",
    "\n",
    "plt.plot(loss_curve, label=\"y_train\")\n",
    "plt.plot(loss_val_curve, label=\"y_test\")\n",
    "plt.legend(loc='upper left')\n",
    "plt.title(\"Loss\")\n",
    "plt.show()\n",
    "\n",
    "plt.plot(acc_curve, label=\"y_train\")\n",
    "plt.plot(acc_val_curve, label=\"y_test\")\n",
    "plt.legend(loc='upper left')\n",
    "plt.title(\"Accuracy\")\n",
    "plt.show()"
   ]
  },
  {
   "cell_type": "markdown",
   "id": "3abafdc8",
   "metadata": {},
   "source": [
    "# Conclusion\n",
    "\n",
    "MLPClassifier et DNNClassifier sont tous deux des implémentations du réseau neuronal feed-forward le plus simple. En principe, ils sont donc identiques.\n",
    "\n",
    "Tensorflow est une bibliothèque d'apprentissage profond. scikit-learn est une bibliothèque d'apprentissage automatique plus traditionnelle.\n",
    "\n",
    "scikit-learn a une couverture très limitée pour l'apprentissage profond, seulement MLPClassifier et MLRegressor, qui sont les bases des bases. Les développeurs de scikit-learn se concentrent sur un domaine plus traditionnel de l'apprentissage automatique et ont fait le choix délibéré de ne pas trop s'étendre dans le domaine de l'apprentissage profond.\n",
    "\n",
    "Tensorflow, en revanche, est dédié à l'apprentissage profond. Il permet de composer des modèles d'apprentissage profond très complexes. Et le support du GPU est très important pour l'apprentissage profond, nous avons vraiment besoin de cette vitesse 1000 fois supérieure pour réaliser un travail significatif dans ce domaine."
   ]
  }
 ],
 "metadata": {
  "kernelspec": {
   "display_name": "Python 3 (ipykernel)",
   "language": "python",
   "name": "python3"
  },
  "language_info": {
   "codemirror_mode": {
    "name": "ipython",
    "version": 3
   },
   "file_extension": ".py",
   "mimetype": "text/x-python",
   "name": "python",
   "nbconvert_exporter": "python",
   "pygments_lexer": "ipython3",
   "version": "3.8.12"
  }
 },
 "nbformat": 4,
 "nbformat_minor": 5
}
